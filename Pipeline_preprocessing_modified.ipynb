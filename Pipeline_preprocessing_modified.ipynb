{
 "cells": [
  {
   "cell_type": "code",
   "execution_count": 1,
   "metadata": {},
   "outputs": [],
   "source": [
    "import os\n",
    "import pyspark.sql.functions as f \n",
    "from pyspark.sql.types import *\n",
    "from pyspark.sql.window import Window\n",
    "from pyspark.sql import SparkSession\n",
    "from pyspark.sql.functions import col,when,lit\n",
    "\n",
    "import pandas as pd\n",
    "pd.reset_option('max_columns')\n",
    "pd.set_option('display.max_columns', None)\n",
    "pd.set_option('display.max_rows', 25)"
   ]
  },
  {
   "cell_type": "code",
   "execution_count": 7,
   "metadata": {},
   "outputs": [],
   "source": [
    "from rsc_repository import preprocess\n",
    "from rsc_repository import scoring_function"
   ]
  },
  {
   "cell_type": "markdown",
   "metadata": {},
   "source": [
    "### 1. Import raw tables"
   ]
  },
  {
   "cell_type": "code",
   "execution_count": 10,
   "metadata": {},
   "outputs": [],
   "source": [
    "df_source_avt =     spark.table(\"X.X\").where(\"dt_partition <> 202012\")\n",
    "df_dossier_sin =    spark.table(\"X.X\").where(\"dt_partition = 202104 & cdappli = 13 & cdcie = 14\")\n",
    "df_contrat =        spark.table(\"X.X\").where(\"dt_partition = 202104\")\n",
    "df_prestations =    spark.table(\"X.X\").where(\"cdappli = 13 & cdcie = 14\")\n",
    "df_socinfo =        spark.table(\"X.X\").where(\"dt_partition = 202104\")\n",
    "df_adhesionassure = spark.table(\"X.X\")\n",
    "df_ref_garantie =   spark.table(\"X.X\")"
   ]
  },
  {
   "cell_type": "code",
   "execution_count": 11,
   "metadata": {},
   "outputs": [],
   "source": [
    "# Objectif 1 : Inclure les sinistres X.X comme point de départ\n",
    "\n",
    "# 1) Montrer un exemple de dossier qu'on ne retrouve pas dans AVT\n",
    "# pass\n",
    "\n",
    "# 2) Regarder la longueur des numéros de dossiers dans X.X\n",
    "# filtre sur la longueur des numéros de références 6,7,8,9\n",
    "\n",
    "# 3) compter les différentes longueur des numéros de dossiers sinistre dans la denrière partition\n",
    "\n",
    "# 4) est-ce qu'il n'existe pas des colonnes permettant l'identification des dossiers pcoll\n",
    "# cdcie = 14\n",
    "# cdappli = 13"
   ]
  },
  {
   "cell_type": "markdown",
   "metadata": {},
   "source": [
    "### 2. Create reference table: df_sinistres"
   ]
  },
  {
   "cell_type": "code",
   "execution_count": 12,
   "metadata": {},
   "outputs": [],
   "source": [
    "df_sinistres = preprocess.create_df_sinistres_ref(df_source_avt)\n",
    "\n",
    "# Verifier qu'il y a une ligne par sinistre\n",
    "assert df_sinistres.count() == df_sinistres.select(\"numutipre\").distinct().count()"
   ]
  },
  {
   "cell_type": "markdown",
   "metadata": {},
   "source": [
    "### 2. bis Rajouter information sur la nature du sinistre (Inc/Inv/DC) et Arrêt Maladie ou Accident du travail"
   ]
  },
  {
   "cell_type": "code",
   "execution_count": 13,
   "metadata": {},
   "outputs": [],
   "source": [
    "# Rajout de deux nouvelles colonnes\n",
    "# 1. nat_risque : 'INC' / 'INV' / 'DC'\n",
    "# 2. sin_evemt : 'arret_maladie' / 'accident_travail' / 'autre'\n",
    "\n",
    "df_sinistres_nat_sin = preprocess.ajout_nat_risque(df_sinistres,df_ref_garantie)\n",
    "\n",
    "# Verifier qu'il y a une ligne par sinistre\n",
    "assert df_sinistres_nat_sin.count() == df_sinistres_nat_sin.select(\"numutipre\").distinct().count()"
   ]
  },
  {
   "cell_type": "markdown",
   "metadata": {},
   "source": [
    "### 3. Add prestations"
   ]
  },
  {
   "cell_type": "code",
   "execution_count": 14,
   "metadata": {},
   "outputs": [],
   "source": [
    "def ajout_sinistres_prestations(df_sinistres, df_dossier_sin, df_contrat, df_prestations, df_socinfo):\n",
    "    df_contrat = df_contrat.withColumnRenamed(\"cdmodges\", \"mode_gestion\")\\\n",
    "                        .withColumnRenamed(\"dteffcon\", \"date_effet\")\\\n",
    "                        .withColumnRenamed(\"dtsurv\", \"datsursin\")\\\n",
    "                        .withColumnRenamed(\"nucontra\", \"numconuti\")\n",
    "\n",
    "    df_contrat = df_contrat.groupBy(\"numconuti\").agg(f.max('date_effet').alias('date_effet'),\\\n",
    "                                                  f.max('dtdermod').alias('dtdermod'))\n",
    "    \n",
    "    # TODO @Abdel - Priorité 2: delai_effcon_sinistre et delai_modcon_sinistre colonnes a integrer dans scoring fraude\n",
    "    # parametrer seuil pour alerte (1 mois)\n",
    "    \n",
    "    # UPDATE (20/07/2021) TODO @Abdel : fait dans crit_effcon et crit_modcon\n",
    "    \n",
    "    df_sinistres_presta = df_sinistres.join(df_contrat,'numconuti', how=\"left\")\n",
    "    df_sinistres_presta = df_sinistres_presta.withColumn(\"delai_effcon_sinistre\", f.datediff(\"date_effet\", \"datsursin\"))\n",
    "    df_sinistres_presta = df_sinistres_presta.withColumn(\"delai_modcon_sinistre\", f.datediff(\"dtdermod\", \"datsursin\"))\n",
    "    \n",
    "    return df_sinistres_presta"
   ]
  },
  {
   "cell_type": "code",
   "execution_count": 15,
   "metadata": {},
   "outputs": [],
   "source": [
    "df_sinistres_prestation = preprocess.ajout_sinistres_prestations(df_sinistres_nat_sin, df_dossier_sin, df_contrat, df_prestations, df_socinfo)\n",
    "\n",
    "# Verifier no duplicates in left join\n",
    "assert df_sinistres.count() == df_sinistres_prestation.count()"
   ]
  },
  {
   "cell_type": "markdown",
   "metadata": {},
   "source": [
    "### 4. num adhesions"
   ]
  },
  {
   "cell_type": "code",
   "execution_count": 16,
   "metadata": {},
   "outputs": [],
   "source": [
    "df_sinistres_presta_adh = preprocess.ajout_nb_adhesions(df_sinistres_prestation, df_adhesionassure)\n",
    "\n",
    "# Verifier no duplicates in left join\n",
    "assert df_sinistres.count() == df_sinistres_presta_adh.count()"
   ]
  },
  {
   "cell_type": "markdown",
   "metadata": {},
   "source": [
    "### 5. Insee"
   ]
  },
  {
   "cell_type": "code",
   "execution_count": 17,
   "metadata": {},
   "outputs": [],
   "source": [
    "df_portefeuille = spark.table('X.X')\n",
    "df_insee = spark.table('X.X')"
   ]
  },
  {
   "cell_type": "code",
   "execution_count": 18,
   "metadata": {},
   "outputs": [],
   "source": [
    "df_sin_portefeuille = df_sinistres_prestation.join(\n",
    "    df_portefeuille\n",
    "    .withColumn('siren', col('siret').substr(1,9))\n",
    "    .withColumnRenamed('num_contrat', 'numconuti')\n",
    "    .select('numconuti', 'siren', 'cd_postal').distinct(), \n",
    "    'numconuti', \n",
    "    'left' \n",
    ")\n",
    "\n",
    "#df_sin_portefeuille.count()"
   ]
  },
  {
   "cell_type": "code",
   "execution_count": 19,
   "metadata": {},
   "outputs": [],
   "source": [
    "df_sin_insee = df_sin_portefeuille.join(\n",
    "    df_insee.select('siren', 'apet700', 'dcret').distinct(), 'siren', how='left'\n",
    ") # TODO - get one row per sinistre"
   ]
  },
  {
   "cell_type": "markdown",
   "metadata": {},
   "source": [
    "### 6. Scoring"
   ]
  },
  {
   "cell_type": "markdown",
   "metadata": {},
   "source": [
    "- <ins> Periodicite </ins>\n",
    "    - p_1 : Plusieurs sinistres le même jours\n",
    "    - p_2 : +/- 3 jours à la date de survenance\n",
    "    - p_3 : le même jour, même mois mais à une année antérieure / postérieure\n",
    "    - p_4 : le même mois, à une année antérieure / postérieure  avec +/- 3 jours de décalage\n",
    "    - p_5 : le nombre de déclaration de sinistre par mois est supérieur à 3 (strictement)\n",
    "    - -> Colonne : crit_period\n",
    "- <ins> Contrat_multiple </ins>\n",
    "    - S'il existe plusieurs contrats pour le même assuré\n",
    "    - -> Colonne : crit_multiplicite_contrat"
   ]
  },
  {
   "cell_type": "code",
   "execution_count": 97,
   "metadata": {},
   "outputs": [],
   "source": [
    "df_master = df_sinistres_presta_adh"
   ]
  },
  {
   "cell_type": "code",
   "execution_count": 99,
   "metadata": {},
   "outputs": [],
   "source": [
    "params = {'delai_eff_con' : 30 ,\\\n",
    "          'delai_mod_con' : 30 ,\\\n",
    "          'nb_assure' : 3,\\\n",
    "          'limit_nb_sin_mois':3,\n",
    "          'delai_periodicite':30}\n",
    "\n",
    "params_poids_score = {'crit_periodicite_p_1' : 4,\\\n",
    "                      'crit_periodicite_p_2' : 3,\\\n",
    "                      'crit_periodicite_p_3' : 2,\\\n",
    "                      'crit_periodicite_p_4' : 1,\\\n",
    "                      'crit_periodicite_p_5' : 2,\\\n",
    "                      'crit_multiplicite_contrat' : 2,\\\n",
    "                      'crit_nb_assure' : 1,\\\n",
    "                      'crit_delai_eff_con' : 1,\\\n",
    "                      'crit_delai_modcon' :1}"
   ]
  },
  {
   "cell_type": "code",
   "execution_count": 100,
   "metadata": {},
   "outputs": [],
   "source": [
    "#df_master = scoring_function.scoring(df_master,params,params_poids_score)\n",
    "df_master = scoring(df_master,params,params_poids_score)\n",
    "# Verifier no duplicates in left join\n",
    "assert df_sinistres.count() == df_master.count()"
   ]
  },
  {
   "cell_type": "markdown",
   "metadata": {},
   "source": [
    "### Sauvegarde"
   ]
  },
  {
   "cell_type": "code",
   "execution_count": 101,
   "metadata": {},
   "outputs": [
    {
     "name": "stderr",
     "output_type": "stream",
     "text": [
      "                                                                                ]]\r"
     ]
    }
   ],
   "source": [
    "df_master = df_master.toPandas()"
   ]
  },
  {
   "cell_type": "code",
   "execution_count": 102,
   "metadata": {},
   "outputs": [],
   "source": [
    "df_master.to_excel(\"scoring_data.xlsx\")"
   ]
  }
 ],
 "metadata": {
  "kernelspec": {
   "display_name": "Python 3",
   "language": "python",
   "name": "python3"
  },
  "language_info": {
   "codemirror_mode": {
    "name": "ipython",
    "version": 3
   },
   "file_extension": ".py",
   "mimetype": "text/x-python",
   "name": "python",
   "nbconvert_exporter": "python",
   "pygments_lexer": "ipython3",
   "version": "3.8.6"
  },
  "toc": {
   "base_numbering": 1,
   "nav_menu": {},
   "number_sections": true,
   "sideBar": true,
   "skip_h1_title": false,
   "title_cell": "Table of Contents",
   "title_sidebar": "Contents",
   "toc_cell": false,
   "toc_position": {},
   "toc_section_display": true,
   "toc_window_display": false
  }
 },
 "nbformat": 4,
 "nbformat_minor": 5
}
